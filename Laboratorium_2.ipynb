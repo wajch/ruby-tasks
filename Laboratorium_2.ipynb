{
 "metadata": {
  "language": "ruby",
  "name": "",
  "signature": "sha256:2fd472571289cd3906ff73c285c79039442666a4ad4edf1fe10312c5fa439d0e"
 },
 "nbformat": 3,
 "nbformat_minor": 0,
 "worksheets": [
  {
   "cells": [
    {
     "cell_type": "heading",
     "level": 1,
     "metadata": {},
     "source": [
      "Liczby"
     ]
    },
    {
     "cell_type": "markdown",
     "metadata": {},
     "source": [
      "W Rubim wyst\u0119puj\u0105 trzy podstawowe typu s\u0142u\u017c\u0105ce do reprezentacji liczb\n",
      "* `Fixnum`\n",
      "* `Bignum`\n",
      "* `Float`\n",
      "\n",
      "Pierwsze dwa typy s\u0142u\u017c\u0105 do reprezentacji liczba ca\u0142kowitych, a trzeci do reprezentacji liczb zmiennopozycyjnych. R\u00f3\u017cnica pomi\u0119dzy dwoma pierwszymi typami polega na tym, \u017ce w typie `Bignum` s\u0105 reprezentowane liczby, kt\u00f3re nie mog\u0105 by\u0107 przechowywane natywnie na wykorzystywanej architekturze sprz\u0119towej. O ile zatem nie reprezentujesz bardzo du\u017cych liczb, nie musisz za bardzo przejmowa\u0107 si\u0119 tym rozr\u00f3\u017cnieniem.\n",
      "\n",
      "Wa\u017cniejsze s\u0105 r\u00f3\u017cnice mi\u0119dzy typami `Fixnum` oraz `Float`.\n",
      "\n",
      "Aby stworzy\u0107 liczb\u0119 typu `Fixnum` po prostu wpisujemy jej warto\u015b\u0107 w reprezentacji dziesi\u0119tnej, np.\n",
      "\n",
      "```ruby\n",
      "5\n",
      "```"
     ]
    },
    {
     "cell_type": "code",
     "collapsed": false,
     "input": [],
     "language": "python",
     "metadata": {},
     "outputs": [],
     "prompt_number": 1
    },
    {
     "cell_type": "markdown",
     "metadata": {},
     "source": [
      "Typ dowolnej zmiennej mo\u017cna pozna\u0107 za pomoc\u0105 wywo\u0142ania `class`\n",
      "\n",
      "```ruby\n",
      "5.class\n",
      "```"
     ]
    },
    {
     "cell_type": "code",
     "collapsed": false,
     "input": [],
     "language": "python",
     "metadata": {},
     "outputs": [],
     "prompt_number": 2
    },
    {
     "cell_type": "markdown",
     "metadata": {},
     "source": [
      "Aby stworzy\u0107 liczb\u0119 typu `Float`, warto\u015b\u0107 liczby musi zawiera\u0107 kropk\u0119, np.\n",
      "\n",
      "```ruby\n",
      "5.0\n",
      "5.0.class\n",
      "```"
     ]
    },
    {
     "cell_type": "code",
     "collapsed": false,
     "input": [],
     "language": "python",
     "metadata": {},
     "outputs": []
    },
    {
     "cell_type": "markdown",
     "metadata": {},
     "source": [
      "Mo\u017cliwe jest dodawanie liczb r\u00f3\u017cnych typ\u00f3w - nast\u0119puje wtedy automatyczna kowersja\n",
      "```ruby\n",
      "a = 5\n",
      "b = 10.0\n",
      "c = a + b\n",
      "c.class\n",
      "```"
     ]
    },
    {
     "cell_type": "code",
     "collapsed": false,
     "input": [],
     "language": "python",
     "metadata": {},
     "outputs": []
    },
    {
     "cell_type": "markdown",
     "metadata": {},
     "source": [
      "Na obu typach liczb mo\u017cna wykonywa\u0107 nast\u0119puj\u0105ce operacje arytmetyczne:\n",
      "\n",
      "|  Operator   | Dzia\u0142anie        |\n",
      "|-------------|------------------|\n",
      "| `+`         | dodawanie        |\n",
      "| `-`         | odejmowanie      |\n",
      "| `*`         | mno\u017cenie         |\n",
      "| `/`         | dzielenie        |\n",
      "| `%`         | dzielenie modulo |\n",
      "| `**`        | pot\u0119gowanie      |\n",
      "\n",
      "Przyk\u0142adowo\n",
      "\n",
      "```ruby\n",
      "(10**2 + 2 * 3) % 6\n",
      "```\n"
     ]
    },
    {
     "cell_type": "code",
     "collapsed": false,
     "input": [],
     "language": "python",
     "metadata": {},
     "outputs": []
    },
    {
     "cell_type": "markdown",
     "metadata": {},
     "source": [
      "Mo\u017cliwe jest r\u00f3wnie\u017c wykonywanie bardziej z\u0142o\u017conych operacji. Znajduj\u0105 si\u0119 one w module `Math`. \n",
      "Je\u015bli chcemy np. wyci\u0105gn\u0105\u0107 pierwiastek kwadratowy z liczby to piszemy\n",
      "```ruby\n",
      "Math.sqrt(2)\n",
      "```"
     ]
    },
    {
     "cell_type": "code",
     "collapsed": false,
     "input": [],
     "language": "python",
     "metadata": {},
     "outputs": []
    },
    {
     "cell_type": "markdown",
     "metadata": {},
     "source": [
      "A logarytm naturalny to `Math.log`\n",
      "```ruby\n",
      "Math.log(2)\n",
      "```"
     ]
    },
    {
     "cell_type": "code",
     "collapsed": false,
     "input": [],
     "language": "python",
     "metadata": {},
     "outputs": []
    },
    {
     "cell_type": "markdown",
     "metadata": {},
     "source": [
      "Wa\u017cne zastrze\u017cenie dotyczy operatora dzielenia - dzia\u0142a o inaczej dla liczb ca\u0142kowitych, a inaczej dla zmiennopozycyjnych.\n",
      "W przypadku tych pierwszych wynik jest liczb\u0105 ca\u0142kowit\u0105, wi\u0119c mamy do czynienia z dzieleniem modulo:\n",
      "```ruby\n",
      "10 / 3\n",
      "```"
     ]
    },
    {
     "cell_type": "code",
     "collapsed": false,
     "input": [],
     "language": "python",
     "metadata": {},
     "outputs": []
    },
    {
     "cell_type": "markdown",
     "metadata": {},
     "source": [
      "W przypadku tych drugich mamy do czynienia z dzieleniem zwyk\u0142yw - wystarczy aby tylko jeden argument by\u0142 liczb\u0105 zmiennopozycyjn\u0105, aby ca\u0142e wyra\u017cenie by\u0142o traktowane jak dzielenie zwyk\u0142e\n",
      "```ruby\n",
      "10.0 / 3\n",
      "```"
     ]
    },
    {
     "cell_type": "code",
     "collapsed": false,
     "input": [],
     "language": "python",
     "metadata": {},
     "outputs": []
    },
    {
     "cell_type": "markdown",
     "metadata": {},
     "source": [
      "Mo\u017cliwe jest r\u00f3wnie\u017c\u00a0dokonywanie kowersji pomi\u0119dzy tymi typami:\n",
      "```ruby\n",
      "5.5.to_i\n",
      "```"
     ]
    },
    {
     "cell_type": "code",
     "collapsed": false,
     "input": [],
     "language": "python",
     "metadata": {},
     "outputs": []
    },
    {
     "cell_type": "markdown",
     "metadata": {},
     "source": [
      "```ruby\n",
      "5.to_f\n",
      "```"
     ]
    },
    {
     "cell_type": "code",
     "collapsed": false,
     "input": [],
     "language": "python",
     "metadata": {},
     "outputs": []
    },
    {
     "cell_type": "markdown",
     "metadata": {},
     "source": [
      "Warto zwr\u00f3ci\u0107 uwag\u0119, \u017ce zamiana na liczb\u0119 ca\u0142kowit\u0105 powoduje obci\u0119cie warto\u015bci u\u0142amkowej, bez zaokr\u0105glenia:\n",
      "```ruby\n",
      "5.6.to_i\n",
      "```"
     ]
    },
    {
     "cell_type": "code",
     "collapsed": false,
     "input": [],
     "language": "python",
     "metadata": {},
     "outputs": [],
     "prompt_number": 3
    },
    {
     "cell_type": "markdown",
     "metadata": {},
     "source": [
      "Je\u015bli chcemy zaokr\u0105gli\u0107 warto\u015b\u0107, musimy najpierw u\u017cy\u0107 wywo\u0142ania `round`\n",
      "```ruby\n",
      "5.6.round.to_i\n",
      "```"
     ]
    },
    {
     "cell_type": "code",
     "collapsed": false,
     "input": [],
     "language": "python",
     "metadata": {},
     "outputs": [],
     "prompt_number": 5
    },
    {
     "cell_type": "markdown",
     "metadata": {},
     "source": [
      "Cho\u0107 wydawa\u0107 si\u0119 mo\u017ce, \u017ce operacja na liczbach nie s\u0105 wywo\u0142aniami metod, to w rzeczywisto\u015bci nie jest to prawda. Ka\u017cde wyra\u017cenie artymetyczne mo\u017ce by\u0107 zamienione na swoj\u0105 posta\u0107 obiektow\u0105:\n",
      "```ruby\n",
      "5 + 2 * 3\n",
      "```\n",
      "to to samo co\n",
      "```ruby\n",
      "5.+(2.*(3))\n",
      "```"
     ]
    },
    {
     "cell_type": "code",
     "collapsed": false,
     "input": [],
     "language": "python",
     "metadata": {},
     "outputs": []
    },
    {
     "cell_type": "markdown",
     "metadata": {},
     "source": [
      "Wa\u017cne jest jednak to, \u017ce operatory artymetyczne maj\u0105\u00a0swoje naturalne priorytety, dlatego nie musimy obawia\u0107 si\u0119, \u017ce wszystkie wyra\u017cenia b\u0119d\u0105 ewaluowane od lewej do prawej, jak to ma miejsce w przypadku zwyk\u0142ego wywo\u0142ywania metod."
     ]
    },
    {
     "cell_type": "markdown",
     "metadata": {},
     "source": [
      "Poza najprostszymi operacjami arytmetycznymi, na liczbach mo\u017cna wywo\u0142ywa\u0107 wiele metod. Wcze\u015bniej widzieli\u015bmy ju\u017c metody `round`, `to_i` oraz `to_f`. Inne ciekawe metody to `zero?`\n",
      "```ruby\n",
      "0.zero?\n",
      "1.zero?\n",
      "```"
     ]
    },
    {
     "cell_type": "code",
     "collapsed": true,
     "input": [],
     "language": "python",
     "metadata": {},
     "outputs": []
    },
    {
     "cell_type": "markdown",
     "metadata": {},
     "source": [
      "`between?`\n",
      "```ruby\n",
      "15.between(10,20)\n",
      "```"
     ]
    },
    {
     "cell_type": "code",
     "collapsed": false,
     "input": [],
     "language": "python",
     "metadata": {},
     "outputs": []
    },
    {
     "cell_type": "markdown",
     "metadata": {},
     "source": [
      "`abs`\n",
      "```ruby\n",
      "-1.abs\n",
      "```"
     ]
    },
    {
     "cell_type": "code",
     "collapsed": false,
     "input": [],
     "language": "python",
     "metadata": {},
     "outputs": [],
     "prompt_number": 7
    },
    {
     "cell_type": "markdown",
     "metadata": {},
     "source": [
      "`succ`\n",
      "```ruby\n",
      "7.succ\n",
      "```"
     ]
    },
    {
     "cell_type": "code",
     "collapsed": false,
     "input": [],
     "language": "python",
     "metadata": {},
     "outputs": []
    },
    {
     "cell_type": "markdown",
     "metadata": {},
     "source": [
      "Oraz `times`\n",
      "```ruby\n",
      "3.times{ print \"Jestem komet\u0105. \" }\n",
      "```"
     ]
    },
    {
     "cell_type": "code",
     "collapsed": false,
     "input": [],
     "language": "python",
     "metadata": {},
     "outputs": []
    },
    {
     "cell_type": "markdown",
     "metadata": {},
     "source": [
      "Istniej\u0105 biblioteki, kt\u00f3re dodaj\u0105 bardziej zaawansowane metody do obiekt\u00f3w liczbowych. Np. biblioteka u\u017cywana `ActiveSupport` w Railsach pozwala na wykonywanie dzia\u0142a\u0144 arytmetycznych na datach\n",
      "```ruby\n",
      "require 'active_support/time'\n",
      "3.days.ago\n",
      "```"
     ]
    },
    {
     "cell_type": "code",
     "collapsed": false,
     "input": [],
     "language": "python",
     "metadata": {},
     "outputs": [],
     "prompt_number": 12
    },
    {
     "cell_type": "heading",
     "level": 3,
     "metadata": {},
     "source": [
      "Zadanie 1"
     ]
    },
    {
     "cell_type": "markdown",
     "metadata": {},
     "source": [
      "Oblicz pierwsiatek trzeciego stopnia z 10. Wynik przedstaw w zaokr\u0105gleniu do dw\u00f3ch miejsc po przecinku."
     ]
    },
    {
     "cell_type": "code",
     "collapsed": false,
     "input": [],
     "language": "python",
     "metadata": {},
     "outputs": []
    },
    {
     "cell_type": "heading",
     "level": 1,
     "metadata": {},
     "source": [
      "Symbole"
     ]
    },
    {
     "cell_type": "markdown",
     "metadata": {},
     "source": [
      "Symbole w Rubim reprezentuj\u0105 *nazwy*. Symbole tworzone s\u0105 poprzez umieszczenie dwukropka na pocz\u0105tku nazwy:\n",
      "```ruby\n",
      ":name\n",
      "```"
     ]
    },
    {
     "cell_type": "code",
     "collapsed": false,
     "input": [],
     "language": "python",
     "metadata": {},
     "outputs": [],
     "prompt_number": 2
    },
    {
     "cell_type": "markdown",
     "metadata": {},
     "source": [
      "Symboli nie nale\u017cy myli\u0107 z napisami. Te drugie wykorzystywane s\u0105 do reprezentowania danych tekstowych, np. pochodz\u0105cych od u\u017cytkownika. Napisy mog\u0105 by\u0107 konkatenowane, mo\u017cna sprawdza\u0107 ich d\u0142ugo\u015b\u0107, etc. Tych operacji nie mo\u017cna wykonywa\u0107 na symbolach.\n",
      "Ponadto napisy s\u0105 modyfikowalne a symbole nie.\n",
      "\n",
      "\n",
      "Symbole s\u0105 nazwami wykorzystywanymi *wewn\u0105trz* programu. Z tego wzgl\u0119du, w przeciwie\u0144stwie do napis\u00f3w, dwa symbole, kt\u00f3re wygl\u0105daj\u0105 identycznie s\u0105 zawsze tym samym symbolem (maj\u0105 ten sam identyfikator).\n",
      "```ruby\n",
      ":name.equal?(:name)\n",
      "\"name\".equal?(\"name\")\n",
      "```\n"
     ]
    },
    {
     "cell_type": "code",
     "collapsed": false,
     "input": [],
     "language": "python",
     "metadata": {},
     "outputs": []
    },
    {
     "cell_type": "heading",
     "level": 1,
     "metadata": {},
     "source": [
      "Zakresy"
     ]
    },
    {
     "cell_type": "markdown",
     "metadata": {},
     "source": [
      "Zakresy to inny ciekawy element j\u0119zyka Ruby. Stosowane s\u0105 one do reprezentowania przedzia\u0142\u00f3w warto\u015bci. Wyr\u00f3\u017cnia si\u0119 dwa typy zakres\u00f3w - obustronnie domkni\u0119te, w kt\u00f3rych wyst\u0119puj\u0105 dwie kropki:\n",
      "```ruby\n",
      "(1..5)\n",
      "```\n",
      "oraz lewostronnie domkni\u0119te, w kt\u00f3rych wyst\u0119puj\u0105 3 kropki:\n",
      "```ruby\n",
      "(1...5)\n",
      "```\n",
      "\n",
      "R\u00f3\u017cnica pomi\u0119dzy nimi polega na tym, \u017ce pierwszy zakres obejmuje wszystkie wymienione warto\u015bci, a drugi zakres nie obejmuje warto\u015bci stoj\u0105cej po prawej stronie. Naj\u0142atwiej mo\u017cna si\u0119 o tym przekona\u0107, sprawdzaj\u0105c, czy jaka\u015b warto\u015b\u0107 nale\u017cy do zakresu za pomoc\u0105 metody `include?`:\n",
      "```ruby\n",
      "(1..5).include?(5)\n",
      "```"
     ]
    },
    {
     "cell_type": "code",
     "collapsed": false,
     "input": [],
     "language": "python",
     "metadata": {},
     "outputs": [],
     "prompt_number": 4
    },
    {
     "cell_type": "markdown",
     "metadata": {},
     "source": [
      "```ruby\n",
      "(1...5).include?(5)\n",
      "```"
     ]
    },
    {
     "cell_type": "code",
     "collapsed": false,
     "input": [],
     "language": "python",
     "metadata": {},
     "outputs": [],
     "prompt_number": 7
    },
    {
     "cell_type": "markdown",
     "metadata": {},
     "source": [
      "Istniej\u0105 dwie podstawowe metody pozwalaj\u0105ce na sprawdzenie kres\u00f3w zakresu: `min` oraz `max`:\n",
      "```ruby\n",
      "(1..5).min\n",
      "```"
     ]
    },
    {
     "cell_type": "code",
     "collapsed": false,
     "input": [],
     "language": "python",
     "metadata": {},
     "outputs": [],
     "prompt_number": 9
    },
    {
     "cell_type": "markdown",
     "metadata": {},
     "source": [
      "```ruby\n",
      "(1..5).max\n",
      "```"
     ]
    },
    {
     "cell_type": "code",
     "collapsed": false,
     "input": [],
     "language": "python",
     "metadata": {},
     "outputs": []
    },
    {
     "cell_type": "markdown",
     "metadata": {},
     "source": [
      "```ruby\n",
      "(1...5).max\n",
      "```"
     ]
    },
    {
     "cell_type": "code",
     "collapsed": false,
     "input": [],
     "language": "python",
     "metadata": {},
     "outputs": []
    },
    {
     "cell_type": "markdown",
     "metadata": {},
     "source": [
      "Zakresy s\u0105 cz\u0119sto wykorzystywane w r\u00f3\u017cnych wywo\u0142aniach, w szczeg\u00f3lno\u015bci tych zwi\u0105zanych ze strukturami sekwencyjnymi, np. napisami. Wywo\u0142uj\u0105c na napisie metod\u0119 `[]` w istocie korzystali\u015bmy z zakres\u00f3w:\n",
      "```ruby\n",
      "\"Ala ma kota\"[0..3]\n",
      "```"
     ]
    },
    {
     "cell_type": "code",
     "collapsed": false,
     "input": [],
     "language": "python",
     "metadata": {},
     "outputs": []
    },
    {
     "cell_type": "markdown",
     "metadata": {},
     "source": [
      "Wa\u017cn\u0105 cech\u0105 zakres\u00f3w jest to, \u017ce zajmuj\u0105 one znacznie mniej pami\u0119ci ni\u017c np. tablice zawieraj\u0105ce wszystkie elementy nale\u017c\u0105ce do zakresu. Mo\u017cliwe jest jednak jawne przekszta\u0142cenie zakres\u00f3w w tablice, za pomoc\u0105 wywo\u0142ania `to_a`:\n",
      "```ruby\n",
      "(1..5).to_a\n",
      "```"
     ]
    },
    {
     "cell_type": "code",
     "collapsed": false,
     "input": [],
     "language": "python",
     "metadata": {},
     "outputs": []
    },
    {
     "cell_type": "markdown",
     "metadata": {},
     "source": [
      "Ostatni\u0105 wa\u017cn\u0105 cech\u0105 zakres\u00f3w jest to, jak definiuj\u0105 one operator `===`. Operator ten zwr\u00f3ci warto\u015b\u0107 prawdy, je\u015bli warto\u015bc po prawej stronie nale\u017cy do zakresu. \n",
      "```ruby\n",
      "(1..5) === 3\n",
      "```"
     ]
    },
    {
     "cell_type": "code",
     "collapsed": false,
     "input": [],
     "language": "python",
     "metadata": {},
     "outputs": []
    },
    {
     "cell_type": "markdown",
     "metadata": {},
     "source": [
      "```ruby\n",
      "(1..5) === 7\n",
      "```"
     ]
    },
    {
     "cell_type": "code",
     "collapsed": false,
     "input": [],
     "language": "python",
     "metadata": {},
     "outputs": []
    },
    {
     "cell_type": "markdown",
     "metadata": {},
     "source": [
      "Dlatego w\u0142a\u015bnie mo\u017cliwe jest wykorzystanie zakres\u00f3w w instrukcji `case`:\n",
      "```ruby\n",
      "year = 1990\n",
      "case year\n",
      "when 1901..2000\n",
      "  \"XX wiek\"\n",
      "when 2001..2100\n",
      "  \"XXI wiek\"\n",
      "else\n",
      "  \"ciemne wieki\"\n",
      "end\n",
      "```"
     ]
    },
    {
     "cell_type": "code",
     "collapsed": false,
     "input": [],
     "language": "python",
     "metadata": {},
     "outputs": []
    },
    {
     "cell_type": "heading",
     "level": 1,
     "metadata": {},
     "source": [
      "Wyra\u017cenia regularne"
     ]
    },
    {
     "cell_type": "markdown",
     "metadata": {},
     "source": [
      "Wyra\u017cenia regularne s\u0105 bardzo powszechnie wykorzystywane w programowaniu aplikacji internetowych. S\u0105 to wzorce, kt\u00f3re dopasowywane s\u0105 do napis\u00f3w. Mog\u0105 by\u0107 wykorzystywane np. do weryfikacji poprawno\u015bci napis\u00f3w (np. kodu pocztowego, numeru telefonu, nazwiska) ale r\u00f3wnie\u017c do wydostawania pewnych informacji ze z\u0142o\u017conych napis\u00f3w.\n",
      "\n",
      "Wyra\u017cenia regularne zapisywane s\u0105 z wykorzystaniem uko\u015bnik\u00f3w np. nast\u0119puj\u0105ce wyra\u017cenie pasuje do napisu zawieraj\u0105cego co najmniej \n",
      "jedn\u0105 liter\u0119 'a'\n",
      "```ruby\n",
      "/a/\n",
      "```"
     ]
    },
    {
     "cell_type": "code",
     "collapsed": false,
     "input": [],
     "language": "python",
     "metadata": {},
     "outputs": []
    },
    {
     "cell_type": "markdown",
     "metadata": {},
     "source": [
      "Dopasowania napisu do wyra\u017cenia mo\u017ce by\u0107 weryfikowane na dwa sposoby. Po pierwsze mo\u017cna skorzysta\u0107 z operatora dopasowania `=~`\n",
      "```ruby\n",
      "\"Ala ma kota\" =~ /a/\n",
      "```"
     ]
    },
    {
     "cell_type": "code",
     "collapsed": false,
     "input": [],
     "language": "python",
     "metadata": {},
     "outputs": []
    },
    {
     "cell_type": "markdown",
     "metadata": {},
     "source": [
      "```ruby\n",
      "\"Ala ma kota\" =~ /x/\n",
      "```"
     ]
    },
    {
     "cell_type": "code",
     "collapsed": false,
     "input": [],
     "language": "python",
     "metadata": {},
     "outputs": []
    },
    {
     "cell_type": "markdown",
     "metadata": {},
     "source": [
      "Warto\u015b\u0107 zwracana przy dopasowaniu to indeks pierwszego dopasowanego znaku. Je\u015bli dopasowanie si\u0119 nie powiod\u0142o zwracana jest warto\u015b\u0107 `nil`. Dzi\u0119ki temu dopasowanie wyra\u017ce\u0144 w tej formie cz\u0119sto wykorzystywane jest w instrukcji warunkwej.\n",
      "\n",
      "Drugi spos\u00f3b dopasowania to u\u017cycie metody `match` zdefiniowanej dla wyra\u017ce\u0144 regularnych\n",
      "```ruby\n",
      "/a/.match(\"Ala ma kota\")\n",
      "```"
     ]
    },
    {
     "cell_type": "code",
     "collapsed": false,
     "input": [],
     "language": "python",
     "metadata": {},
     "outputs": []
    },
    {
     "cell_type": "markdown",
     "metadata": {},
     "source": [
      "Dla tej metody zwracany jest jednak nie indeks, ale obiekt klasy `MatchData`, kt\u00f3ry pozwala \"odpyta\u0107\" jak dok\u0142adnie wygl\u0105da dopasowanie\n",
      "```ruby\n",
      "matched = /a/.match(\"Ala ma kota\")\n",
      "matched.begin(0)\n",
      "matched.end(0)\n",
      "```"
     ]
    },
    {
     "cell_type": "code",
     "collapsed": false,
     "input": [],
     "language": "python",
     "metadata": {},
     "outputs": [],
     "prompt_number": 19
    },
    {
     "cell_type": "markdown",
     "metadata": {},
     "source": [
      "Argument przekazywany do metod `begin` oraz `end` oznaczna indeks dopasowanej \"podgrupy\" wyra\u017cenia. Indeks 0 oznaczna \n",
      "ca\u0142e dopasowanie.\n",
      "\n",
      "W wyra\u017ceniach regularnych poza zwyk\u0142ymi znakami wyst\u0119puj\u0105 znaki specjalne\n",
      "\n",
      "| Znak specjalny | Znaczenie |\n",
      "|----------------|-----------|\n",
      "| .              | dowolny znak |\n",
      "| &#124;         | alternatywa |\n",
      "| (              | pocz\u0105tek podgrupy |\n",
      "| )              | koniec podgrupy   |\n",
      "| [              | zakres warto\u015bci   |\n",
      "| {              | krotno\u015b\u0107          |\n",
      "| *              | zero lub wi\u0119cej wyst\u0105pie\u0144 |\n",
      "| +              | jedno lub wi\u0119cej wyst\u0105pie\u0144 |\n",
      "| ?              | zero lub jedno wyst\u0105pienie |\n",
      "| \\              | znak wymazuj\u0105cy znaczenie znaku specjalnego |\n",
      "| ^              | pocz\u0105tek linii |\n",
      "| $              | koniec linii |\n",
      "\n",
      "\n",
      "Je\u015bli chcemy aby te znaki zosta\u0142y dopasowane bezpo\u015brednio, musimy poprzedzi\u0107 je odwrotnym uko\u015bnikiem. Poni\u017csze dopasowanie dopasuje si\u0119\u00a0do dowolnego znaku:\n",
      "```ruby\n",
      "\"a\" =~ /./\n",
      "```"
     ]
    },
    {
     "cell_type": "code",
     "collapsed": false,
     "input": [],
     "language": "python",
     "metadata": {},
     "outputs": []
    },
    {
     "cell_type": "markdown",
     "metadata": {},
     "source": [
      "Je\u015bli chcemy dopasowa\u0107 kropk\u0119, musimy u\u017cy\u0107 odwrotnego uko\u015bnika\n",
      "\n",
      "```ruby\n",
      "\"a\" =~ /\\./\n",
      "```"
     ]
    },
    {
     "cell_type": "code",
     "collapsed": false,
     "input": [],
     "language": "python",
     "metadata": {},
     "outputs": []
    },
    {
     "cell_type": "markdown",
     "metadata": {},
     "source": [
      "```ruby\n",
      "\".\" =~ /\\./\n",
      "```"
     ]
    },
    {
     "cell_type": "code",
     "collapsed": false,
     "input": [],
     "language": "python",
     "metadata": {},
     "outputs": []
    },
    {
     "cell_type": "markdown",
     "metadata": {},
     "source": [
      "Alternatywa dopasowuje si\u0119 do wyra\u017cenia po prawej lub wyra\u017cenia po lewej stronie\n",
      "```ruby\n",
      "\"ma\u0142y\" =~ /ma\u0142y|du\u017cy/\n",
      "```"
     ]
    },
    {
     "cell_type": "code",
     "collapsed": false,
     "input": [],
     "language": "python",
     "metadata": {},
     "outputs": []
    },
    {
     "cell_type": "markdown",
     "metadata": {},
     "source": [
      "```ruby\n",
      "\"du\u017cy\" =~ /ma\u0142y|du\u017cy/\n",
      "```"
     ]
    },
    {
     "cell_type": "code",
     "collapsed": false,
     "input": [],
     "language": "python",
     "metadata": {},
     "outputs": []
    },
    {
     "cell_type": "markdown",
     "metadata": {},
     "source": [
      "```ruby\n",
      "\"wielki\" =~ /ma\u0142y|du\u017cy/\n",
      "```"
     ]
    },
    {
     "cell_type": "code",
     "collapsed": false,
     "input": [],
     "language": "python",
     "metadata": {},
     "outputs": []
    },
    {
     "cell_type": "markdown",
     "metadata": {},
     "source": [
      "Podgrupy pozwalaj\u0105 na wyodr\u0119bnianie pewnych informacji z dopasowanego \u0142a\u0144cucha. Przyk\u0142adowo, je\u015bli z adresu chcemy \n",
      "wyodr\u0119bni\u0107 kod i miejscowo\u015b\u0107 mo\u017cemy u\u017cy\u0107 nast\u0119puj\u0105cego wyra\u017cenia:\n",
      "```ruby\n",
      "matched = /(\\d\\d-\\d\\d\\d) (\\w+)/.match(\"00-700 Warszawa, ul. Kr\u00f3tka 5\")\n",
      "matched[1]\n",
      "matched[2]\n",
      "```"
     ]
    },
    {
     "cell_type": "code",
     "collapsed": false,
     "input": [],
     "language": "python",
     "metadata": {},
     "outputs": [],
     "prompt_number": 22
    },
    {
     "cell_type": "markdown",
     "metadata": {},
     "source": [
      "Pierwsza dopasowana podgrupa obejmuje kod pocztowy, a druga - nazw\u0119 miejscowo\u015bci. "
     ]
    },
    {
     "cell_type": "heading",
     "level": 2,
     "metadata": {},
     "source": [
      "Klasy znak\u00f3w"
     ]
    },
    {
     "cell_type": "markdown",
     "metadata": {},
     "source": [
      "W powy\u017cszym przyk\u0142adzie wykorzystali\u015bmy tzw. klasy znak\u00f3w `\\d` oraz `\\w`. Klasy te reprezentuj\u0105 grupy znak\u00f3w, kt\u00f3re cz\u0119sto pojawiaj\u0105 si\u0119 w wyra\u017ceniach regularnych. `\\d` oznacza cyfry dziesi\u0119tne, a `\\w` litery oraz cyfry."
     ]
    },
    {
     "cell_type": "markdown",
     "metadata": {},
     "source": [
      "Je\u015bli chcemy okre\u015bli\u0107, \u017ce na danej pozycji mo\u017ce wyst\u0105pi\u0107 jeden spo\u015br\u00f3d kilku znak\u00f3w mo\u017cemy skorzysta\u0107 z w\u0142asnych klasy znak\u00f3w. Mo\u017cemy poda\u0107 bezpo\u015brednio wszystkie znaki, kt\u00f3re mog\u0105 by\u0107 dopasowane na danej pozycji:\n",
      "```ruby\n",
      "\"Ala\" =~ /[AO]la/\n",
      "```"
     ]
    },
    {
     "cell_type": "code",
     "collapsed": false,
     "input": [],
     "language": "python",
     "metadata": {},
     "outputs": []
    },
    {
     "cell_type": "markdown",
     "metadata": {},
     "source": [
      "```ruby\n",
      "\"Ola\" =~ /[AO]la/\n",
      "```"
     ]
    },
    {
     "cell_type": "code",
     "collapsed": false,
     "input": [],
     "language": "python",
     "metadata": {},
     "outputs": []
    },
    {
     "cell_type": "markdown",
     "metadata": {},
     "source": [
      "```ruby\n",
      "\"Jola\" =~ /[AO]la/\n",
      "```"
     ]
    },
    {
     "cell_type": "code",
     "collapsed": false,
     "input": [],
     "language": "python",
     "metadata": {},
     "outputs": [],
     "prompt_number": 23
    },
    {
     "cell_type": "markdown",
     "metadata": {},
     "source": [
      "Mo\u017cemy r\u00f3wnie\u017c poda\u0107 zakres liter b\u0105d\u017a cyfr. Nale\u017cy jednak pami\u0119ta\u0107, \u017ce zakresy te nie obejmuj\u0105 liter z polskimi znakami diakrytycznymi:\n",
      "```ruby\n",
      "\"Ala\" =~ /[A-Z]la/\n",
      "```"
     ]
    },
    {
     "cell_type": "code",
     "collapsed": false,
     "input": [],
     "language": "python",
     "metadata": {},
     "outputs": [],
     "prompt_number": 28
    },
    {
     "cell_type": "markdown",
     "metadata": {},
     "source": [
      "```ruby\n",
      "\"\u00d3la\" =~ /[A-Z]la/\n",
      "```"
     ]
    },
    {
     "cell_type": "code",
     "collapsed": false,
     "input": [],
     "language": "python",
     "metadata": {},
     "outputs": [],
     "prompt_number": 25
    },
    {
     "cell_type": "markdown",
     "metadata": {},
     "source": [
      "Najcz\u0119\u015bciej wykorzystywane klasy znak\u00f3w\n",
      "\n",
      "| Symbol | Znaczenie |\n",
      "|--------|-----------|\n",
      "| .      | dowolny znak |\n",
      "| \\d     | cyfra dziesi\u0119tna |\n",
      "| \\D     | co\u015b innego ni\u017c cyfra dziesi\u0119tna |\n",
      "| \\s     | bia\u0142e spacje |\n",
      "| \\S     | co\u015b innego ni\u017c bia\u0142e spacje |\n",
      "| \\w     | litery i cyfry alfabetu \u0142aci\u0144skiego |\n",
      "| \\W     | co\u015b innego ni\u017c litery i cyfry alfabetu \u0142aci\u0144skiego |\n",
      "| \\p{L}  | litery r\u00f3\u017cnych alfabet\u00f3w |\n",
      "| \\p{Lu} | du\u017ce litery r\u00f3\u017cnych alfabet\u00f3w |\n",
      "| \\o{Ll} | ma\u0142e litery r\u00f3\u017cnych alfabet\u00f3w |"
     ]
    },
    {
     "cell_type": "code",
     "collapsed": false,
     "input": [],
     "language": "python",
     "metadata": {},
     "outputs": []
    },
    {
     "cell_type": "heading",
     "level": 2,
     "metadata": {},
     "source": [
      "Krotno\u015b\u0107"
     ]
    },
    {
     "cell_type": "markdown",
     "metadata": {},
     "source": [
      "W wyra\u017ceniach regularnych cz\u0119sto oczekujemy, \u017ce okre\u015blony znak lub grupa znak\u00f3w pojawi si\u0119 okre\u015blon\u0105 ilo\u015b\u0107 razy. \n",
      "Mo\u017cna wtedy powt\u00f3rzy\u0107 wyst\u0105pienia tych znak\u00f3w lub grup znak\u00f3w, jak w przypadku dopasowania kodu pocztowego\n",
      "```ruby\n",
      "\"00-700\" =~ /\\d\\d-\\d\\d\\d/\n",
      "```\n",
      "Mo\u017cna jednak zkorzysta\u0107 z mo\u017cliwo\u015bci okre\u015blenia krotno\u015bci\n",
      "```ruby\n",
      "\"00-700\" =~ /\\d{2}-\\d{3}/\n",
      "```"
     ]
    },
    {
     "cell_type": "code",
     "collapsed": false,
     "input": [],
     "language": "python",
     "metadata": {},
     "outputs": []
    },
    {
     "cell_type": "markdown",
     "metadata": {},
     "source": [
      "Krotno\u015b\u0107 mo\u017ce by\u0107 okre\u015blona \"sztywno\", b\u0105d\u017a mo\u017ce obejmowa\u0107 zakres:\n",
      "```ruby\n",
      "\"aaa\" =~ /a{2,4}/\n",
      "```"
     ]
    },
    {
     "cell_type": "code",
     "collapsed": false,
     "input": [],
     "language": "python",
     "metadata": {},
     "outputs": []
    },
    {
     "cell_type": "markdown",
     "metadata": {},
     "source": [
      "```ruby\n",
      "\"aaaaa\" =~ /a{2,4}/\n",
      "```"
     ]
    },
    {
     "cell_type": "code",
     "collapsed": false,
     "input": [],
     "language": "python",
     "metadata": {},
     "outputs": []
    },
    {
     "cell_type": "markdown",
     "metadata": {},
     "source": [
      "Cz\u0119sto oczekujemy, \u017ce okre\u015blone elementy wyst\u0105pi\u0105 zero albo wi\u0119cej razy. Wykorzystujemy wtedy gwiazdk\u0119\n",
      "```ruby\n",
      "\"aabbbcc\" =~ /ab*c/\n",
      "```"
     ]
    },
    {
     "cell_type": "code",
     "collapsed": false,
     "input": [],
     "language": "python",
     "metadata": {},
     "outputs": []
    },
    {
     "cell_type": "markdown",
     "metadata": {},
     "source": [
      "```ruby\n",
      "\"aacc\" =~ /ab*c/\n",
      "```"
     ]
    },
    {
     "cell_type": "code",
     "collapsed": false,
     "input": [],
     "language": "python",
     "metadata": {},
     "outputs": []
    },
    {
     "cell_type": "markdown",
     "metadata": {},
     "source": [
      "Podobnie dzia\u0142aj\u0105 operatory `+` oraz `?`. Pierwszy wymaga jednak, aby dany znak wyst\u0105pi\u0142 co najmniej jeden raz:\n",
      "```ruby\n",
      "\"aabbbcc\" =~ /ab+c/\n",
      "```"
     ]
    },
    {
     "cell_type": "code",
     "collapsed": false,
     "input": [],
     "language": "python",
     "metadata": {},
     "outputs": []
    },
    {
     "cell_type": "markdown",
     "metadata": {},
     "source": [
      "```ruby\n",
      "\"aacc\" =~ /ab+c/\n",
      "```"
     ]
    },
    {
     "cell_type": "code",
     "collapsed": false,
     "input": [],
     "language": "python",
     "metadata": {},
     "outputs": []
    },
    {
     "cell_type": "markdown",
     "metadata": {},
     "source": [
      "Natomiast `?` oznacza, \u017ce element jest opcjonalny, tzn. mo\u017ce wyst\u0105pi\u0107 0 lub 1 raz\n",
      "```ruby\n",
      "\"-5\" =~ /-?\\d+/\n",
      "```"
     ]
    },
    {
     "cell_type": "code",
     "collapsed": false,
     "input": [],
     "language": "python",
     "metadata": {},
     "outputs": []
    },
    {
     "cell_type": "markdown",
     "metadata": {},
     "source": [
      "```ruby\n",
      "\"123\" =~ /-?\\d+/\n",
      "```"
     ]
    },
    {
     "cell_type": "heading",
     "level": 3,
     "metadata": {},
     "source": [
      "Zadanie 2"
     ]
    },
    {
     "cell_type": "markdown",
     "metadata": {},
     "source": [
      "Napisz wyra\u017cenie, kt\u00f3re dopasuje si\u0119 do kodu pocztowego i nazw miast wyst\u0119puj\u0105cych w Polsce. Uwzgl\u0119dnij fakt, \u017ce nazwa miasta powinna zaczyna\u0107 si\u0119 wielk\u0105 liter\u0105. Przetestuj dzia\u0142anie wyra\u017cenia na nast\u0119puj\u0105cych danych testowych:\n",
      "* 00-700 Warszawa\n",
      "* 44-196 Knur\u00f3w\n",
      "* 30-383 krak\u00f3w (nie powinno zosta\u0107 dopasowane)\n",
      "* 43-300 Bielsko-Bia\u0142a\n",
      "* 91-474 \u0141\u00f3D\u017a (nie powinno zosta\u0107 dopasowane)\n",
      "* 11-11 Polska-Japonia (nie powinno zosta\u0107 dopasowane)"
     ]
    },
    {
     "cell_type": "code",
     "collapsed": false,
     "input": [],
     "language": "python",
     "metadata": {},
     "outputs": []
    },
    {
     "cell_type": "heading",
     "level": 2,
     "metadata": {},
     "source": [
      "Kotwice"
     ]
    },
    {
     "cell_type": "markdown",
     "metadata": {},
     "source": [
      "Ostatnim wa\u017cnym elementem pojawiaj\u0105cym si\u0119 w wyra\u017ceniach regularnych s\u0105 kotiwce - czyli takie miejsca w napisie, kt\u00f3re nie odpowiadaj\u0105 konkretnemu znakowi, lecz pewnej granicy - np. granicy pomi\u0119dzy s\u0142owem a bia\u0142\u0105 spacj\u0105. \n",
      "Do najcz\u0119\u015bciej stosowanych kotwic nale\u017c\u0105\n",
      "\n",
      "| Symbol  | Znaczenie |\n",
      "|---------|-----------|\n",
      "| ^       | Pocz\u0105tek wiersza |\n",
      "| $       | Koniec wiersza |\n",
      "| \\A      | Pocz\u0105tek napisu |\n",
      "| \\z      | Koniec napisu |\n",
      "| \\b      | granica s\u0142owa |\n",
      "\n",
      "Przyk\u0142adowo je\u015bli chcemy dopasowa\u0107 \"Ala\", ale tylko wtedy gdy pojawia si\u0119 na pocz\u0105tku wiersza, musimy u\u017cy\u0107 kotwicy:\n",
      "```ruby\n",
      "\"Ala ma kota\" =~ /^Ala/\n",
      "```"
     ]
    },
    {
     "cell_type": "code",
     "collapsed": false,
     "input": [],
     "language": "python",
     "metadata": {},
     "outputs": []
    },
    {
     "cell_type": "markdown",
     "metadata": {},
     "source": [
      "```ruby\n",
      "\"To kot, a to Ala\" =~ /^Ala/\n",
      "```"
     ]
    },
    {
     "cell_type": "code",
     "collapsed": false,
     "input": [],
     "language": "python",
     "metadata": {},
     "outputs": []
    },
    {
     "cell_type": "markdown",
     "metadata": {},
     "source": [
      "Kotwica `\\b` przydaje si\u0119 je\u015bli chcemy np. podzieli\u0107 napis wzgl\u0119dem granic s\u0142\u00f3w:\n",
      "```ruby\n",
      "\"Ala ma kota\".split(/\\b/)\n",
      "```"
     ]
    },
    {
     "cell_type": "code",
     "collapsed": false,
     "input": [],
     "language": "python",
     "metadata": {},
     "outputs": [],
     "prompt_number": 30
    },
    {
     "cell_type": "markdown",
     "metadata": {},
     "source": [
      "Dzi\u0119ki niej mo\u017cemy r\u00f3wnie\u017c upewni\u0107 si\u0119, \u017ce dopasowujemy konkretne s\u0142owo, a nie liter\u0119 wewn\u0105trz s\u0142owa. Por\u00f3wnaj\n",
      "```ruby\n",
      "\"Ania i Kasia\" =~ /i/\n",
      "```"
     ]
    },
    {
     "cell_type": "code",
     "collapsed": false,
     "input": [],
     "language": "python",
     "metadata": {},
     "outputs": []
    },
    {
     "cell_type": "markdown",
     "metadata": {},
     "source": [
      "```ruby\n",
      "\"Ania i Kasia\" =~ /\\bi\\b/\n",
      "```"
     ]
    },
    {
     "cell_type": "code",
     "collapsed": false,
     "input": [],
     "language": "python",
     "metadata": {},
     "outputs": []
    },
    {
     "cell_type": "heading",
     "level": 3,
     "metadata": {},
     "source": [
      "Zadanie 3"
     ]
    },
    {
     "cell_type": "markdown",
     "metadata": {},
     "source": [
      "Napisz algorytm, kt\u00f3re z adresu URL wyodr\u0119bnia:\n",
      "* protok\u00f3\u0142\n",
      "* adres hosta\n",
      "* numer portu (opcjonalny)\n",
      "* \u015bcie\u017ck\u0119\n",
      "* zapytanie\n",
      "* fragment dokumentu\n",
      "\n",
      "Przyk\u0142adowy adres do testowania:\n",
      "http://www.wp.pl:8080/aktualnosci/krakow/1112.html?id=5#tresc\n",
      "\n",
      "Powinni\u015bmy otrzyma\u0107 nast\u0119puj\u0105cy wynik ko\u0144cowy:\n",
      "```\n",
      "protok\u00f3\u0142: http\n",
      "host: www.wp.pl\n",
      "port: 8080\n",
      "\u015bcie\u017cka: /aktualnosci/krakow/1112.html\n",
      "zapytanie: id=5\n",
      "fragment: tresc\n",
      "```"
     ]
    },
    {
     "cell_type": "code",
     "collapsed": false,
     "input": [],
     "language": "python",
     "metadata": {},
     "outputs": []
    }
   ],
   "metadata": {}
  }
 ]
}